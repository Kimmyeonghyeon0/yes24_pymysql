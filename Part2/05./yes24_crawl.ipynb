{
 "cells": [
  {
   "cell_type": "markdown",
   "metadata": {},
   "source": [
    "### 예스24 크롤링"
   ]
  },
  {
   "cell_type": "markdown",
   "metadata": {},
   "source": []
  },
  {
   "cell_type": "code",
   "execution_count": 2,
   "metadata": {},
   "outputs": [
    {
     "data": {
      "text/plain": [
       "'/Users/mac/.wdm/drivers/chromedriver/mac64/129.0.6668.89/chromedriver-mac-x64/chromedriver'"
      ]
     },
     "execution_count": 2,
     "metadata": {},
     "output_type": "execute_result"
    }
   ],
   "source": [
    "#webdriver-manager 라이브러리 불러오기\n",
    "from webdriver_manager.chrome import ChromeDriverManager # type: ignore\n",
    "ChromeDriverManager().install()"
   ]
  },
  {
   "cell_type": "code",
   "execution_count": 3,
   "metadata": {},
   "outputs": [],
   "source": [
    "from selenium import webdriver # type: ignore\n",
    "browser = webdriver.Chrome()"
   ]
  },
  {
   "cell_type": "code",
   "execution_count": 4,
   "metadata": {},
   "outputs": [],
   "source": [
    "url = 'https://google.com'\n",
    "browser.get(url)"
   ]
  },
  {
   "cell_type": "code",
   "execution_count": 5,
   "metadata": {},
   "outputs": [
    {
     "data": {
      "text/plain": [
       "'대한민국'"
      ]
     },
     "execution_count": 5,
     "metadata": {},
     "output_type": "execute_result"
    }
   ],
   "source": [
    "from selenium.webdriver.common.by import By # type: ignore\n",
    "\n",
    "browser.find_element(By.CLASS_NAME, 'uU7dJb').text"
   ]
  },
  {
   "cell_type": "code",
   "execution_count": 6,
   "metadata": {},
   "outputs": [],
   "source": [
    "from selenium.webdriver.common.by import By\n",
    "url = 'https://www.yes24.com/Product/category/bestseller?CategoryNumber=001&sumgb=06'\n",
    "browser.get(url)\n"
   ]
  },
  {
   "cell_type": "code",
   "execution_count": 7,
   "metadata": {},
   "outputs": [
    {
     "name": "stdout",
     "output_type": "stream",
     "text": [
      "https://www.yes24.com/Product/Goods/133213071\n",
      "https://www.yes24.com/Product/Goods/125557465\n",
      "https://www.yes24.com/Product/Goods/133870359\n",
      "https://www.yes24.com/Product/Goods/131930939\n",
      "https://www.yes24.com/Product/Goods/104663596\n",
      "https://www.yes24.com/Product/Goods/133312039\n",
      "https://www.yes24.com/Product/Goods/133236068\n",
      "https://www.yes24.com/Product/Goods/133199014\n",
      "https://www.yes24.com/Product/Goods/132560712\n",
      "https://www.yes24.com/Product/Goods/117014613\n",
      "https://www.yes24.com/Product/Goods/128266166\n",
      "https://www.yes24.com/Product/Goods/124999476\n",
      "https://www.yes24.com/Product/Goods/8759796\n",
      "https://www.yes24.com/Product/Goods/129602366\n",
      "https://www.yes24.com/Product/Goods/102457889\n",
      "https://www.yes24.com/Product/Goods/130174102\n",
      "https://www.yes24.com/Product/Goods/133824761\n",
      "https://www.yes24.com/Product/Goods/130135671\n",
      "https://www.yes24.com/Product/Goods/132565140\n",
      "https://www.yes24.com/Product/Goods/132181262\n",
      "https://www.yes24.com/Product/Goods/124043812\n",
      "https://www.yes24.com/Product/Goods/133813184\n",
      "https://www.yes24.com/Product/Goods/118322901\n",
      "https://www.yes24.com/Product/Goods/124043802\n"
     ]
    }
   ],
   "source": [
    "#1페이지의 링크 데이터 전부 수집\n",
    "###한개의 베스트 셀러 링크 수집\n",
    "\n",
    "browser.find_element(By.CLASS_NAME, 'gd_name').get_attribute('href')\n",
    "\n",
    "###1페이지 전체의 링크 데이터\n",
    "# browser.find_element(By.CLASS_NAME, 'gd_name')# element: 요소\n",
    "datas = browser.find_elements(By.CLASS_NAME, 'gd_name')# elements: 리스트 \n",
    "\n",
    "for i in datas:\n",
    "    print(i.get_attribute('href'))\n",
    "\n"
   ]
  },
  {
   "cell_type": "code",
   "execution_count": 8,
   "metadata": {},
   "outputs": [
    {
     "name": "stdout",
     "output_type": "stream",
     "text": [
      "********** 현재 1 페이지 수집중 입니다. **********\n",
      "********** 현재 2 페이지 수집중 입니다. **********\n",
      "********** 현재 3 페이지 수집중 입니다. **********\n",
      "['https://www.yes24.com/Product/Goods/133213071', 'https://www.yes24.com/Product/Goods/125557465', 'https://www.yes24.com/Product/Goods/133870359', 'https://www.yes24.com/Product/Goods/131930939', 'https://www.yes24.com/Product/Goods/104663596', 'https://www.yes24.com/Product/Goods/133312039', 'https://www.yes24.com/Product/Goods/133236068', 'https://www.yes24.com/Product/Goods/133199014', 'https://www.yes24.com/Product/Goods/132560712', 'https://www.yes24.com/Product/Goods/117014613', 'https://www.yes24.com/Product/Goods/128266166', 'https://www.yes24.com/Product/Goods/124999476', 'https://www.yes24.com/Product/Goods/8759796', 'https://www.yes24.com/Product/Goods/129602366', 'https://www.yes24.com/Product/Goods/102457889', 'https://www.yes24.com/Product/Goods/130174102', 'https://www.yes24.com/Product/Goods/133824761', 'https://www.yes24.com/Product/Goods/130135671', 'https://www.yes24.com/Product/Goods/132565140', 'https://www.yes24.com/Product/Goods/132181262', 'https://www.yes24.com/Product/Goods/124043812', 'https://www.yes24.com/Product/Goods/133813184', 'https://www.yes24.com/Product/Goods/118322901', 'https://www.yes24.com/Product/Goods/124043802', 'https://www.yes24.com/Product/Goods/133138701', 'https://www.yes24.com/Product/Goods/96547408', 'https://www.yes24.com/Product/Goods/130500819', 'https://www.yes24.com/Product/Goods/124539805', 'https://www.yes24.com/Product/Goods/122120495', 'https://www.yes24.com/Product/Goods/133896038', 'https://www.yes24.com/Product/Goods/129124029', 'https://www.yes24.com/Product/Goods/116586303', 'https://www.yes24.com/Product/Goods/123930880', 'https://www.yes24.com/Product/Goods/133128647', 'https://www.yes24.com/Product/Goods/123930891', 'https://www.yes24.com/Product/Goods/132772043', 'https://www.yes24.com/Product/Goods/104687898', 'https://www.yes24.com/Product/Goods/133757215', 'https://www.yes24.com/Product/Goods/133756359', 'https://www.yes24.com/Product/Goods/95721612', 'https://www.yes24.com/Product/Goods/128917300', 'https://www.yes24.com/Product/Goods/132190133', 'https://www.yes24.com/Product/Goods/109145992', 'https://www.yes24.com/Product/Goods/124225606', 'https://www.yes24.com/Product/Goods/67362730', 'https://www.yes24.com/Product/Goods/133812270', 'https://www.yes24.com/Product/Goods/132754223', 'https://www.yes24.com/Product/Goods/128133897', 'https://www.yes24.com/Product/Goods/125295101', 'https://www.yes24.com/Product/Goods/108192000', 'https://www.yes24.com/Product/Goods/133741785', 'https://www.yes24.com/Product/Goods/23030284', 'https://www.yes24.com/Product/Goods/79297023', 'https://www.yes24.com/Product/Goods/129094064', 'https://www.yes24.com/Product/Goods/132619282', 'https://www.yes24.com/Product/Goods/2312211', 'https://www.yes24.com/Product/Goods/110641272', 'https://www.yes24.com/Product/Goods/111680193', 'https://www.yes24.com/Product/Goods/133127953', 'https://www.yes24.com/Product/Goods/121507789', 'https://www.yes24.com/Product/Goods/124219505', 'https://www.yes24.com/Product/Goods/134021280', 'https://www.yes24.com/Product/Goods/11081680', 'https://www.yes24.com/Product/Goods/118578901', 'https://www.yes24.com/Product/Goods/133811843', 'https://www.yes24.com/Product/Goods/124409868', 'https://www.yes24.com/Product/Goods/133821851', 'https://www.yes24.com/Product/Goods/125492144', 'https://www.yes24.com/Product/Goods/125992096', 'https://www.yes24.com/Product/Goods/67114707', 'https://www.yes24.com/Product/Goods/134021461', 'https://www.yes24.com/Product/Goods/125995791']\n"
     ]
    }
   ],
   "source": [
    "#3페이지까지의 링크 데이터 전부 수집\n",
    "# https://www.yes24.com/Product/Category/BestSeller?categoryNumber=001&pageNumber=1&pageSize=24\n",
    "# https://www.yes24.com/Product/Category/BestSeller?categoryNumber=001&pageNumber=2&pageSize=24\n",
    "# https://www.yes24.com/Product/Category/BestSeller?categoryNumber=001&pageNumber=3&pageSize=24\n",
    "\n",
    "import time\n",
    "\n",
    "link_list = []\n",
    "for i in range(1, 4):\n",
    "    print('*' * 10, f'현재 {i} 페이지 수집중 입니다.', \"*\" * 10)\n",
    "    \n",
    "    url = f'https://www.yes24.com/Product/Category/BestSeller?categoryNumber=001&pageNumber={i}&pageSize=24'\n",
    "    browser.get(url)\n",
    "\n",
    "    browser.find_element(By.CLASS_NAME, 'gd_name').get_attribute('href')\n",
    "    ###1페이지 전체의 링 크 데이터\n",
    "    # browser.find_elements(By.CLASS_NAME, 'gd_name') #elements: 리스트\n",
    "    datas = browser.find_elements(By.CLASS_NAME, 'gd_name') #elements: 리스트\n",
    "\n",
    "    for i in datas:\n",
    "        link = i.get_attribute('href')\n",
    "        link_list.append(link)\n",
    "\n",
    "    time.sleep(3)\n",
    "\n",
    "print(link_list)"
   ]
  },
  {
   "cell_type": "code",
   "execution_count": 9,
   "metadata": {},
   "outputs": [
    {
     "data": {
      "text/plain": [
       "72"
      ]
     },
     "execution_count": 9,
     "metadata": {},
     "output_type": "execute_result"
    }
   ],
   "source": [
    "len(link_list)"
   ]
  },
  {
   "cell_type": "code",
   "execution_count": 10,
   "metadata": {},
   "outputs": [],
   "source": [
    "# for link in link_list:\n",
    "#     # 상세페이지로 이동\n",
    "#     browser.get(link)\n",
    "\n",
    "browser.get(link_list[0])\n",
    "\n",
    "title =browser.find_element(By.CLASS_NAME, 'gd_name').text\n",
    "author = browser.find_element(By.CLASS_NAME, 'gd_auth').text\n",
    "publisher = browser.find_element(By.CLASS_NAME, 'gd_pub').text\n",
    "publishing = browser.find_element(By.CLASS_NAME, 'gd_date').text\n",
    "rating = browser.find_element(By.CLASS_NAME, 'yes_b').text\n",
    "reviews = browser.find_element(By.CLASS_NAME, 'txC_blue').text\n",
    "sales = browser.find_element(By.CLASS_NAME, 'gd_sellNum').text.split(\" \")[2]\n",
    "price = browser.find_element(By.CLASS_NAME, 'yes_m').text[:-1]\n",
    "ranking = browser.find_element(By.CLASS_NAME, 'gd_best').text.split(\" | \")[0]\n",
    "ranking_weeks = browser.find_element(By.CLASS_NAME, 'gd_best').text.split(\" | \")[1]\n",
    "\n",
    "\n",
    "\n",
    "\n"
   ]
  },
  {
   "cell_type": "code",
   "execution_count": 11,
   "metadata": {},
   "outputs": [
    {
     "data": {
      "text/plain": [
       "('트렌드 코리아 2025',\n",
       " '김난도, 전미영, 최지혜, 권정윤, 한다혜 저 외 5명 정보 더 보기/감추기',\n",
       " '미래의창',\n",
       " '2024년 09월 25일',\n",
       " '9.6',\n",
       " '30',\n",
       " '320,781',\n",
       " '20,000',\n",
       " '1',\n",
       " '1')"
      ]
     },
     "execution_count": 11,
     "metadata": {},
     "output_type": "execute_result"
    }
   ],
   "source": [
    "#상세피이지 이동 후 데이터 크롤링\n",
    "\n",
    "title =browser.find_element(By.CLASS_NAME, 'gd_name').text\n",
    "author = browser.find_element(By.CLASS_NAME, 'gd_auth').text\n",
    "publisher = browser.find_element(By.CLASS_NAME, 'gd_pub').text\n",
    "publishing = browser.find_element(By.CLASS_NAME, 'gd_date').text\n",
    "rating = browser.find_element(By.CLASS_NAME, 'yes_b').text\n",
    "review = browser.find_element(By.CLASS_NAME, 'txC_blue').text\n",
    "sales = browser.find_element(By.CLASS_NAME, 'gd_sellNum').text.split(\" \")[2]\n",
    "price = browser.find_element(By.CLASS_NAME, 'yes_m').text[:-1]\n",
    "ranking = browser.find_element(By.CLASS_NAME, 'gd_best').text.split(\" | \")[1].split(\" \")[1][:-1]\n",
    "ranking_weeks = browser.find_element(By.CLASS_NAME, 'gd_best').text.split(\" | \")[1].split(\" \")[2][:-1]\n",
    "\n",
    "title, author, publisher, publishing, rating, review, sales, price, ranking, ranking_weeks"
   ]
  },
  {
   "cell_type": "code",
   "execution_count": 12,
   "metadata": {},
   "outputs": [
    {
     "data": {
      "text/plain": [
       "'932.772'"
      ]
     },
     "execution_count": 12,
     "metadata": {},
     "output_type": "execute_result"
    }
   ],
   "source": [
    "text = \"'| 판ㅐ자수 932.772 판매자수란?'\"\n",
    "\n",
    "text.split(\" \")[2]"
   ]
  },
  {
   "cell_type": "code",
   "execution_count": 13,
   "metadata": {},
   "outputs": [
    {
     "data": {
      "text/plain": [
       "[\"'베스트\", '국내도서', '1위']"
      ]
     },
     "execution_count": 13,
     "metadata": {},
     "output_type": "execute_result"
    }
   ],
   "source": [
    "text = \"'베스트 국내도서 1위 | 국내도서 1위 5주'\"\n",
    "\n",
    "text.split(\" | \")[0].split(\" \")"
   ]
  },
  {
   "cell_type": "code",
   "execution_count": 14,
   "metadata": {},
   "outputs": [
    {
     "ename": "OperationalError",
     "evalue": "(1241, 'Operand should contain 1 column(s)')",
     "output_type": "error",
     "traceback": [
      "\u001b[0;31m---------------------------------------------------------------------------\u001b[0m",
      "\u001b[0;31mOperationalError\u001b[0m                          Traceback (most recent call last)",
      "Cell \u001b[0;32mIn[14], line 84\u001b[0m\n\u001b[1;32m     73\u001b[0m ranking_weeks \u001b[38;5;241m=\u001b[39m browser\u001b[38;5;241m.\u001b[39mfind_element(By\u001b[38;5;241m.\u001b[39mCLASS_NAME, \u001b[38;5;124m'\u001b[39m\u001b[38;5;124mgd_best\u001b[39m\u001b[38;5;124m'\u001b[39m)\u001b[38;5;241m.\u001b[39mtext\u001b[38;5;241m.\u001b[39msplit(\u001b[38;5;124m\"\u001b[39m\u001b[38;5;124m | \u001b[39m\u001b[38;5;124m\"\u001b[39m)\n\u001b[1;32m     75\u001b[0m sql \u001b[38;5;241m=\u001b[39m \u001b[38;5;124m\"\"\"\u001b[39m\u001b[38;5;124mINSERT INTO Books\u001b[39m\n\u001b[1;32m     76\u001b[0m \u001b[38;5;124m(title, author, publisher, publishing, rating,\u001b[39m\n\u001b[1;32m     77\u001b[0m \u001b[38;5;124mreview, sales, price, ranking, ranking_weeks)\u001b[39m\n\u001b[0;32m   (...)\u001b[0m\n\u001b[1;32m     80\u001b[0m \u001b[38;5;124m)\u001b[39m\n\u001b[1;32m     81\u001b[0m \u001b[38;5;124m\u001b[39m\u001b[38;5;124m\"\"\"\u001b[39m\n\u001b[0;32m---> 84\u001b[0m \u001b[43mcur\u001b[49m\u001b[38;5;241;43m.\u001b[39;49m\u001b[43mexecute\u001b[49m\u001b[43m(\u001b[49m\u001b[43msql\u001b[49m\u001b[43m,\u001b[49m\u001b[43m \u001b[49m\u001b[43m(\u001b[49m\u001b[43mtitle\u001b[49m\u001b[43m,\u001b[49m\u001b[43m \u001b[49m\u001b[43mauthor\u001b[49m\u001b[43m,\u001b[49m\u001b[43m \u001b[49m\u001b[43mpublisher\u001b[49m\u001b[43m,\u001b[49m\u001b[43m \u001b[49m\u001b[43mpublishing\u001b[49m\u001b[43m,\u001b[49m\u001b[43m \u001b[49m\u001b[43mrating\u001b[49m\u001b[43m,\u001b[49m\u001b[43m \u001b[49m\u001b[43mreview\u001b[49m\u001b[43m,\u001b[49m\u001b[43m \u001b[49m\u001b[43msales\u001b[49m\u001b[43m,\u001b[49m\u001b[43m \u001b[49m\u001b[43mprice\u001b[49m\u001b[43m,\u001b[49m\u001b[43m \u001b[49m\u001b[43mranking\u001b[49m\u001b[43m,\u001b[49m\u001b[43m \u001b[49m\u001b[43mranking_weeks\u001b[49m\u001b[43m)\u001b[49m\u001b[43m)\u001b[49m\n\u001b[1;32m     85\u001b[0m conn\u001b[38;5;241m.\u001b[39mcommit()\n\u001b[1;32m     87\u001b[0m time\u001b[38;5;241m.\u001b[39msleep(\u001b[38;5;241m2\u001b[39m)\n",
      "File \u001b[0;32m~/Desktop/Database assignment/MINIPROHECT_YES24/.venv/lib/python3.12/site-packages/pymysql/cursors.py:153\u001b[0m, in \u001b[0;36mCursor.execute\u001b[0;34m(self, query, args)\u001b[0m\n\u001b[1;32m    149\u001b[0m     \u001b[38;5;28;01mpass\u001b[39;00m\n\u001b[1;32m    151\u001b[0m query \u001b[38;5;241m=\u001b[39m \u001b[38;5;28mself\u001b[39m\u001b[38;5;241m.\u001b[39mmogrify(query, args)\n\u001b[0;32m--> 153\u001b[0m result \u001b[38;5;241m=\u001b[39m \u001b[38;5;28;43mself\u001b[39;49m\u001b[38;5;241;43m.\u001b[39;49m\u001b[43m_query\u001b[49m\u001b[43m(\u001b[49m\u001b[43mquery\u001b[49m\u001b[43m)\u001b[49m\n\u001b[1;32m    154\u001b[0m \u001b[38;5;28mself\u001b[39m\u001b[38;5;241m.\u001b[39m_executed \u001b[38;5;241m=\u001b[39m query\n\u001b[1;32m    155\u001b[0m \u001b[38;5;28;01mreturn\u001b[39;00m result\n",
      "File \u001b[0;32m~/Desktop/Database assignment/MINIPROHECT_YES24/.venv/lib/python3.12/site-packages/pymysql/cursors.py:322\u001b[0m, in \u001b[0;36mCursor._query\u001b[0;34m(self, q)\u001b[0m\n\u001b[1;32m    320\u001b[0m conn \u001b[38;5;241m=\u001b[39m \u001b[38;5;28mself\u001b[39m\u001b[38;5;241m.\u001b[39m_get_db()\n\u001b[1;32m    321\u001b[0m \u001b[38;5;28mself\u001b[39m\u001b[38;5;241m.\u001b[39m_clear_result()\n\u001b[0;32m--> 322\u001b[0m \u001b[43mconn\u001b[49m\u001b[38;5;241;43m.\u001b[39;49m\u001b[43mquery\u001b[49m\u001b[43m(\u001b[49m\u001b[43mq\u001b[49m\u001b[43m)\u001b[49m\n\u001b[1;32m    323\u001b[0m \u001b[38;5;28mself\u001b[39m\u001b[38;5;241m.\u001b[39m_do_get_result()\n\u001b[1;32m    324\u001b[0m \u001b[38;5;28;01mreturn\u001b[39;00m \u001b[38;5;28mself\u001b[39m\u001b[38;5;241m.\u001b[39mrowcount\n",
      "File \u001b[0;32m~/Desktop/Database assignment/MINIPROHECT_YES24/.venv/lib/python3.12/site-packages/pymysql/connections.py:563\u001b[0m, in \u001b[0;36mConnection.query\u001b[0;34m(self, sql, unbuffered)\u001b[0m\n\u001b[1;32m    561\u001b[0m     sql \u001b[38;5;241m=\u001b[39m sql\u001b[38;5;241m.\u001b[39mencode(\u001b[38;5;28mself\u001b[39m\u001b[38;5;241m.\u001b[39mencoding, \u001b[38;5;124m\"\u001b[39m\u001b[38;5;124msurrogateescape\u001b[39m\u001b[38;5;124m\"\u001b[39m)\n\u001b[1;32m    562\u001b[0m \u001b[38;5;28mself\u001b[39m\u001b[38;5;241m.\u001b[39m_execute_command(COMMAND\u001b[38;5;241m.\u001b[39mCOM_QUERY, sql)\n\u001b[0;32m--> 563\u001b[0m \u001b[38;5;28mself\u001b[39m\u001b[38;5;241m.\u001b[39m_affected_rows \u001b[38;5;241m=\u001b[39m \u001b[38;5;28;43mself\u001b[39;49m\u001b[38;5;241;43m.\u001b[39;49m\u001b[43m_read_query_result\u001b[49m\u001b[43m(\u001b[49m\u001b[43munbuffered\u001b[49m\u001b[38;5;241;43m=\u001b[39;49m\u001b[43munbuffered\u001b[49m\u001b[43m)\u001b[49m\n\u001b[1;32m    564\u001b[0m \u001b[38;5;28;01mreturn\u001b[39;00m \u001b[38;5;28mself\u001b[39m\u001b[38;5;241m.\u001b[39m_affected_rows\n",
      "File \u001b[0;32m~/Desktop/Database assignment/MINIPROHECT_YES24/.venv/lib/python3.12/site-packages/pymysql/connections.py:825\u001b[0m, in \u001b[0;36mConnection._read_query_result\u001b[0;34m(self, unbuffered)\u001b[0m\n\u001b[1;32m    823\u001b[0m \u001b[38;5;28;01melse\u001b[39;00m:\n\u001b[1;32m    824\u001b[0m     result \u001b[38;5;241m=\u001b[39m MySQLResult(\u001b[38;5;28mself\u001b[39m)\n\u001b[0;32m--> 825\u001b[0m     \u001b[43mresult\u001b[49m\u001b[38;5;241;43m.\u001b[39;49m\u001b[43mread\u001b[49m\u001b[43m(\u001b[49m\u001b[43m)\u001b[49m\n\u001b[1;32m    826\u001b[0m \u001b[38;5;28mself\u001b[39m\u001b[38;5;241m.\u001b[39m_result \u001b[38;5;241m=\u001b[39m result\n\u001b[1;32m    827\u001b[0m \u001b[38;5;28;01mif\u001b[39;00m result\u001b[38;5;241m.\u001b[39mserver_status \u001b[38;5;129;01mis\u001b[39;00m \u001b[38;5;129;01mnot\u001b[39;00m \u001b[38;5;28;01mNone\u001b[39;00m:\n",
      "File \u001b[0;32m~/Desktop/Database assignment/MINIPROHECT_YES24/.venv/lib/python3.12/site-packages/pymysql/connections.py:1199\u001b[0m, in \u001b[0;36mMySQLResult.read\u001b[0;34m(self)\u001b[0m\n\u001b[1;32m   1197\u001b[0m \u001b[38;5;28;01mdef\u001b[39;00m \u001b[38;5;21mread\u001b[39m(\u001b[38;5;28mself\u001b[39m):\n\u001b[1;32m   1198\u001b[0m     \u001b[38;5;28;01mtry\u001b[39;00m:\n\u001b[0;32m-> 1199\u001b[0m         first_packet \u001b[38;5;241m=\u001b[39m \u001b[38;5;28;43mself\u001b[39;49m\u001b[38;5;241;43m.\u001b[39;49m\u001b[43mconnection\u001b[49m\u001b[38;5;241;43m.\u001b[39;49m\u001b[43m_read_packet\u001b[49m\u001b[43m(\u001b[49m\u001b[43m)\u001b[49m\n\u001b[1;32m   1201\u001b[0m         \u001b[38;5;28;01mif\u001b[39;00m first_packet\u001b[38;5;241m.\u001b[39mis_ok_packet():\n\u001b[1;32m   1202\u001b[0m             \u001b[38;5;28mself\u001b[39m\u001b[38;5;241m.\u001b[39m_read_ok_packet(first_packet)\n",
      "File \u001b[0;32m~/Desktop/Database assignment/MINIPROHECT_YES24/.venv/lib/python3.12/site-packages/pymysql/connections.py:775\u001b[0m, in \u001b[0;36mConnection._read_packet\u001b[0;34m(self, packet_type)\u001b[0m\n\u001b[1;32m    773\u001b[0m     \u001b[38;5;28;01mif\u001b[39;00m \u001b[38;5;28mself\u001b[39m\u001b[38;5;241m.\u001b[39m_result \u001b[38;5;129;01mis\u001b[39;00m \u001b[38;5;129;01mnot\u001b[39;00m \u001b[38;5;28;01mNone\u001b[39;00m \u001b[38;5;129;01mand\u001b[39;00m \u001b[38;5;28mself\u001b[39m\u001b[38;5;241m.\u001b[39m_result\u001b[38;5;241m.\u001b[39munbuffered_active \u001b[38;5;129;01mis\u001b[39;00m \u001b[38;5;28;01mTrue\u001b[39;00m:\n\u001b[1;32m    774\u001b[0m         \u001b[38;5;28mself\u001b[39m\u001b[38;5;241m.\u001b[39m_result\u001b[38;5;241m.\u001b[39munbuffered_active \u001b[38;5;241m=\u001b[39m \u001b[38;5;28;01mFalse\u001b[39;00m\n\u001b[0;32m--> 775\u001b[0m     \u001b[43mpacket\u001b[49m\u001b[38;5;241;43m.\u001b[39;49m\u001b[43mraise_for_error\u001b[49m\u001b[43m(\u001b[49m\u001b[43m)\u001b[49m\n\u001b[1;32m    776\u001b[0m \u001b[38;5;28;01mreturn\u001b[39;00m packet\n",
      "File \u001b[0;32m~/Desktop/Database assignment/MINIPROHECT_YES24/.venv/lib/python3.12/site-packages/pymysql/protocol.py:219\u001b[0m, in \u001b[0;36mMysqlPacket.raise_for_error\u001b[0;34m(self)\u001b[0m\n\u001b[1;32m    217\u001b[0m \u001b[38;5;28;01mif\u001b[39;00m DEBUG:\n\u001b[1;32m    218\u001b[0m     \u001b[38;5;28mprint\u001b[39m(\u001b[38;5;124m\"\u001b[39m\u001b[38;5;124merrno =\u001b[39m\u001b[38;5;124m\"\u001b[39m, errno)\n\u001b[0;32m--> 219\u001b[0m \u001b[43merr\u001b[49m\u001b[38;5;241;43m.\u001b[39;49m\u001b[43mraise_mysql_exception\u001b[49m\u001b[43m(\u001b[49m\u001b[38;5;28;43mself\u001b[39;49m\u001b[38;5;241;43m.\u001b[39;49m\u001b[43m_data\u001b[49m\u001b[43m)\u001b[49m\n",
      "File \u001b[0;32m~/Desktop/Database assignment/MINIPROHECT_YES24/.venv/lib/python3.12/site-packages/pymysql/err.py:150\u001b[0m, in \u001b[0;36mraise_mysql_exception\u001b[0;34m(data)\u001b[0m\n\u001b[1;32m    148\u001b[0m \u001b[38;5;28;01mif\u001b[39;00m errorclass \u001b[38;5;129;01mis\u001b[39;00m \u001b[38;5;28;01mNone\u001b[39;00m:\n\u001b[1;32m    149\u001b[0m     errorclass \u001b[38;5;241m=\u001b[39m InternalError \u001b[38;5;28;01mif\u001b[39;00m errno \u001b[38;5;241m<\u001b[39m \u001b[38;5;241m1000\u001b[39m \u001b[38;5;28;01melse\u001b[39;00m OperationalError\n\u001b[0;32m--> 150\u001b[0m \u001b[38;5;28;01mraise\u001b[39;00m errorclass(errno, errval)\n",
      "\u001b[0;31mOperationalError\u001b[0m: (1241, 'Operand should contain 1 column(s)')"
     ]
    }
   ],
   "source": [
    "# 데ㅣ이터 베이스 연동후 -> 수집한 데이터를 DB에 저장 (csv)\n",
    "import pymysql  #pip install pymysql\n",
    "import time\n",
    "import re\n",
    "from datetime import datetime\n",
    "\n",
    "import pymysql.cursors\n",
    "\n",
    "conn = pymysql.connect(\n",
    "    host='localhost',\n",
    "    user='root',\n",
    "    password='00915',\n",
    "    db='Yes24',\n",
    "    charset='utf8mb4',\n",
    "    cursorclass=pymysql.cursors.DictCursor\n",
    ")\n",
    "\n",
    "with conn.cursor() as cur:\n",
    "    \n",
    "    for link in link_list:\n",
    "        browser.get(link)\n",
    "\n",
    "        title =browser.find_element(By.CLASS_NAME, 'gd_name').text\n",
    "        author = browser.find_element(By.CLASS_NAME, 'gd_auth').text\n",
    "        publisher = browser.find_element(By.CLASS_NAME, 'gd_pub').text\n",
    "\n",
    "        # 2023년 12월 25일 -> 2023-12-25\n",
    "        publishing = browser.find_element(By.CLASS_NAME, 'gd_date').text\n",
    "\n",
    "        match = re.search(r'(\\d+)년 (\\d+)월 (\\d+)일', publishing)\n",
    "\n",
    "        if match:\n",
    "            year, month, day = match.groups()\n",
    "            date_obj = datetime(int(year), int(month), int(day))\n",
    "            publishing = date_obj.strftime(\"%Y-%m-%d\")\n",
    "        else:\n",
    "            publishin = \"2023-01-01\"\n",
    "\n",
    "        rating = browser.find_element(By.CLASS_NAME, 'yes_b').text\n",
    "\n",
    "        review = browser.find_element(By.CLASS_NAME, 'txC_blue').text\n",
    "\n",
    "        sales = browser.find_element(By.CLASS_NAME, 'gd_sellNum').text.split(\" \")[2]\n",
    "\n",
    "        price = browser.find_element(By.CLASS_NAME, 'yes_m').text[:-1]\n",
    "        price = int(price.replace(\",\", \"\"))\n",
    "\n",
    "        full_text = browser.find_element(By.CLASS_NAME, 'gd_best').text\n",
    "        parts = full_text.split(\" | \")\n",
    "\n",
    "        if len(parts) == 1:\n",
    "            ranking = 0\n",
    "            ranking_weeks = 0\n",
    "        else:\n",
    "            try:\n",
    "                full_text = browser.find_element(By.CLASS_NAME, 'gd_best').text\n",
    "                parts = full_text.split(\" | \")\n",
    "                ranking_part = parts[0]\n",
    "                ranking = ''.join(filter(str.isdigit, ranking_part)) #숫자만 추출\n",
    "            except:\n",
    "                ranking = 0\n",
    "\n",
    "            try:\n",
    "                full_text = browser.find_element(By.CLASS_NAME, 'gd_best').text\n",
    "                parts = full_text.split(\" | \")\n",
    "                #국내도서 topo20 3주\n",
    "                ranking_weeks_part = parts[1]\n",
    "                ranking_weeks = ''.join(filter(str.isdigit, ranking_weeks_part.split()[-1]))\n",
    "            except:\n",
    "                ranking_weeks = 0\n",
    "\n",
    "        ranking = browser.find_element(By.CLASS_NAME, 'gd_best').text\n",
    "        ranking_weeks = browser.find_element(By.CLASS_NAME, 'gd_best').text.split(\" | \")\n",
    "\n",
    "        sql = \"\"\"INSERT INTO Books\n",
    "        (title, author, publisher, publishing, rating,\n",
    "        review, sales, price, ranking, ranking_weeks)\n",
    "        VALUES(\n",
    "        %s, %s, %s, %s, %s, %s, %s, %s, %s, %s\n",
    "        )\n",
    "        \"\"\"\n",
    "\n",
    "\n",
    "        cur.execute(sql, (title, author, publisher, publishing, rating, review, sales, price, ranking, ranking_weeks))\n",
    "        conn.commit()\n",
    "\n",
    "        time.sleep(2)"
   ]
  },
  {
   "cell_type": "code",
   "execution_count": null,
   "metadata": {},
   "outputs": [
    {
     "ename": "NameError",
     "evalue": "name 'browser' is not defined",
     "output_type": "error",
     "traceback": [
      "\u001b[0;31m---------------------------------------------------------------------------\u001b[0m",
      "\u001b[0;31mNameError\u001b[0m                                 Traceback (most recent call last)",
      "Cell \u001b[0;32mIn[3], line 3\u001b[0m\n\u001b[1;32m      1\u001b[0m \u001b[38;5;66;03m# 상세페이지 이동 후 데이터 크롤링\u001b[39;00m\n\u001b[0;32m----> 3\u001b[0m title \u001b[38;5;241m=\u001b[39m\u001b[43mbrowser\u001b[49m\u001b[38;5;241m.\u001b[39mfind_element(By\u001b[38;5;241m.\u001b[39mCLASS_NAME, \u001b[38;5;124m'\u001b[39m\u001b[38;5;124mgd_name\u001b[39m\u001b[38;5;124m'\u001b[39m)\u001b[38;5;241m.\u001b[39mtext\n\u001b[1;32m      4\u001b[0m author \u001b[38;5;241m=\u001b[39m browser\u001b[38;5;241m.\u001b[39mfind_element(By\u001b[38;5;241m.\u001b[39mCLASS_NAME, \u001b[38;5;124m'\u001b[39m\u001b[38;5;124mgd_auth\u001b[39m\u001b[38;5;124m'\u001b[39m)\u001b[38;5;241m.\u001b[39mtext\n\u001b[1;32m      5\u001b[0m publisher \u001b[38;5;241m=\u001b[39m browser\u001b[38;5;241m.\u001b[39mfind_element(By\u001b[38;5;241m.\u001b[39mCLASS_NAME, \u001b[38;5;124m'\u001b[39m\u001b[38;5;124mgd_pub\u001b[39m\u001b[38;5;124m'\u001b[39m)\u001b[38;5;241m.\u001b[39mtext\n",
      "\u001b[0;31mNameError\u001b[0m: name 'browser' is not defined"
     ]
    }
   ],
   "source": [
    "# 상세페이지 이동 후 데이터 크롤링\n",
    "\n",
    "title =browser.find_element(By.CLASS_NAME, 'gd_name').text\n",
    "author = browser.find_element(By.CLASS_NAME, 'gd_auth').text\n",
    "publisher = browser.find_element(By.CLASS_NAME, 'gd_pub').text\n",
    "publishing = browser.find_element(By.CLASS_NAME, 'gd_date').text\n",
    "rating = browser.find_element(By.CLASS_NAME, 'yes_b').text\n",
    "review = browser.find_element(By.CLASS_NAME, 'txC_blue').text\n",
    "sales = browser.find_element(By.CLASS_NAME, 'gd_sellNum').text.split(\" \")[2]\n",
    "price = browser.find_element(By.CLASS_NAME, 'yes_m').text[:-1]\n",
    "ranking = browser.find_element(By.CLASS_NAME, 'gd_best').text.split(\" | \")[0]\n",
    "ranking_weeks = browser.find_element(By.CLASS_NAME, 'gd_best').text.split(\" | \")[1]\n",
    "\n"
   ]
  },
  {
   "cell_type": "code",
   "execution_count": null,
   "metadata": {},
   "outputs": [],
   "source": [
    "# 데ㅣ이터 베이스 연동후 -> 수집한 데이터를 DB에 저장 (csv)\n",
    "import pymysql  #pip install pymysql\n",
    "import time\n",
    "import re\n",
    "from datetime import datetime\n",
    "\n",
    "import pymysql.cursors\n",
    "\n",
    "conn = pymysql.connect(\n",
    "    host='localhost',\n",
    "    user='root',\n",
    "    password='00915',\n",
    "    db='Yes24',\n",
    "    charset='utf8mb4',\n",
    "    cursorclass=pymysql.cursors.DictCursor\n",
    ")\n",
    "\n",
    "with conn.cursor() as cur:\n",
    "    \n",
    "    for link in link_list:\n",
    "        browser.get(link)\n",
    "\n",
    "        title =browser.find_element(By.CLASS_NAME, 'gd_name').text\n",
    "        author = browser.find_element(By.CLASS_NAME, 'gd_auth').text\n",
    "        publisher = browser.find_element(By.CLASS_NAME, 'gd_pub').text\n",
    "\n",
    "        # 2023년 12월 25일 -> 2023-12-25\n",
    "        publishing = browser.find_element(By.CLASS_NAME, 'gd_date').text\n",
    "\n",
    "        match = re.search(r'(\\d+)년 (\\d+)월 (\\d+)일', publishing)\n",
    "\n",
    "        if match:\n",
    "            year, month, day = match.groups()\n",
    "            date_obj = datetime(int(year), int(month), int(day))\n",
    "            publishing = date_obj.strftime(\"%Y-%m-%d\")\n",
    "        else:\n",
    "            publishin = \"2023-01-01\"\n",
    "\n",
    "        rating = browser.find_element(By.CLASS_NAME, 'yes_b').text\n",
    "\n",
    "        review = browser.find_element(By.CLASS_NAME, 'txC_blue').text\n",
    "\n",
    "        sales = browser.find_element(By.CLASS_NAME, 'gd_sellNum').text.split(\" \")[2]\n",
    "\n",
    "        price = browser.find_element(By.CLASS_NAME, 'yes_m').text[:-1]\n",
    "        price = int(price.replace(\",\", \"\"))\n",
    "\n",
    "        full_text = browser.find_element(By.CLASS_NAME, 'gd_best').text\n",
    "        parts = full_text.split(\" | \")\n",
    "\n",
    "        if len(parts) == 1:\n",
    "            ranking = 0\n",
    "            ranking_weeks = 0\n",
    "        else:\n",
    "            try:\n",
    "                full_text = browser.find_element(By.CLASS_NAME, 'gd_best').text\n",
    "                parts = full_text.split(\" | \")\n",
    "                ranking_part = parts[0]\n",
    "                ranking = ''.join(filter(str.isdigit, ranking_part)) #숫자만 추출\n",
    "            except:\n",
    "                ranking = 0\n",
    "\n",
    "            try:\n",
    "                full_text = browser.find_element(By.CLASS_NAME, 'gd_best').text\n",
    "                parts = full_text.split(\" | \")\n",
    "                #국내도서 topo20 3주\n",
    "                ranking_weeks_part = parts[1]\n",
    "                ranking_weeks = ''.join(filter(str.isdigit, ranking_weeks_part.split()[-1]))\n",
    "            except:\n",
    "                ranking_weeks = 0\n",
    "\n",
    "        ranking = browser.find_element(By.CLASS_NAME, 'gd_best').text\n",
    "        ranking_weeks = browser.find_element(By.CLASS_NAME, 'gd_best').text.split(\" | \")\n",
    "\n",
    "        sql = \"\"\"INSERT INTO Books\n",
    "        (title, author, publisher, publishing, rating,\n",
    "        review, sales, price, ranking, ranking_weeks)\n",
    "        VALUES(\n",
    "        %s, %s, %s, %s, %s, %s, %s, %s, %s, %s\n",
    "        )\n",
    "        \"\"\"\n",
    "\n",
    "\n",
    "        cur.execute(sql, (title, author, publisher, publishing, rating, review, sales, price, ranking, ranking_weeks))\n",
    "        conn.commit()\n",
    "\n",
    "        time.sleep(2)"
   ]
  },
  {
   "cell_type": "code",
   "execution_count": 24,
   "metadata": {},
   "outputs": [
    {
     "ename": "DataError",
     "evalue": "(1265, \"Data truncated for column 'review' at row 1\")",
     "output_type": "error",
     "traceback": [
      "\u001b[0;31m---------------------------------------------------------------------------\u001b[0m",
      "\u001b[0;31mDataError\u001b[0m                                 Traceback (most recent call last)",
      "Cell \u001b[0;32mIn[24], line 80\u001b[0m\n\u001b[1;32m     68\u001b[0m         ranking_weeks \u001b[38;5;241m=\u001b[39m \u001b[38;5;241m0\u001b[39m\n\u001b[1;32m     71\u001b[0m     sql \u001b[38;5;241m=\u001b[39m \u001b[38;5;124m\"\"\"\u001b[39m\u001b[38;5;124mINSERT INTO Books\u001b[39m\n\u001b[1;32m     72\u001b[0m \u001b[38;5;124m        (title, author, publisher, publishing, rating,\u001b[39m\n\u001b[1;32m     73\u001b[0m \u001b[38;5;124m        review, sales, price, ranking, ranking_weeks)\u001b[39m\n\u001b[0;32m   (...)\u001b[0m\n\u001b[1;32m     76\u001b[0m \u001b[38;5;124m        )\u001b[39m\n\u001b[1;32m     77\u001b[0m \u001b[38;5;124m        \u001b[39m\u001b[38;5;124m\"\"\"\u001b[39m\n\u001b[0;32m---> 80\u001b[0m \u001b[43mcur\u001b[49m\u001b[38;5;241;43m.\u001b[39;49m\u001b[43mexecute\u001b[49m\u001b[43m(\u001b[49m\u001b[43msql\u001b[49m\u001b[43m,\u001b[49m\u001b[43m \u001b[49m\u001b[43m(\u001b[49m\u001b[43mtitle\u001b[49m\u001b[43m,\u001b[49m\u001b[43m \u001b[49m\u001b[43mauthor\u001b[49m\u001b[43m,\u001b[49m\u001b[43m \u001b[49m\u001b[43mpublisher\u001b[49m\u001b[43m,\u001b[49m\u001b[43m \u001b[49m\u001b[43mpublishing\u001b[49m\u001b[43m,\u001b[49m\u001b[43m \u001b[49m\u001b[43mrating\u001b[49m\u001b[43m,\u001b[49m\u001b[43m \u001b[49m\u001b[43mreview\u001b[49m\u001b[43m,\u001b[49m\u001b[43m \u001b[49m\u001b[43msales\u001b[49m\u001b[43m,\u001b[49m\u001b[43m \u001b[49m\u001b[43mprice\u001b[49m\u001b[43m,\u001b[49m\u001b[43m \u001b[49m\u001b[43mranking\u001b[49m\u001b[43m,\u001b[49m\u001b[43m \u001b[49m\u001b[43mranking_weeks\u001b[49m\u001b[43m)\u001b[49m\u001b[43m)\u001b[49m\n\u001b[1;32m     81\u001b[0m conn\u001b[38;5;241m.\u001b[39mcommit()\n\u001b[1;32m     83\u001b[0m time\u001b[38;5;241m.\u001b[39msleep(\u001b[38;5;241m2\u001b[39m)\n",
      "File \u001b[0;32m~/Desktop/Database assignment/MINIPROHECT_YES24/.venv/lib/python3.12/site-packages/pymysql/cursors.py:153\u001b[0m, in \u001b[0;36mCursor.execute\u001b[0;34m(self, query, args)\u001b[0m\n\u001b[1;32m    149\u001b[0m     \u001b[38;5;28;01mpass\u001b[39;00m\n\u001b[1;32m    151\u001b[0m query \u001b[38;5;241m=\u001b[39m \u001b[38;5;28mself\u001b[39m\u001b[38;5;241m.\u001b[39mmogrify(query, args)\n\u001b[0;32m--> 153\u001b[0m result \u001b[38;5;241m=\u001b[39m \u001b[38;5;28;43mself\u001b[39;49m\u001b[38;5;241;43m.\u001b[39;49m\u001b[43m_query\u001b[49m\u001b[43m(\u001b[49m\u001b[43mquery\u001b[49m\u001b[43m)\u001b[49m\n\u001b[1;32m    154\u001b[0m \u001b[38;5;28mself\u001b[39m\u001b[38;5;241m.\u001b[39m_executed \u001b[38;5;241m=\u001b[39m query\n\u001b[1;32m    155\u001b[0m \u001b[38;5;28;01mreturn\u001b[39;00m result\n",
      "File \u001b[0;32m~/Desktop/Database assignment/MINIPROHECT_YES24/.venv/lib/python3.12/site-packages/pymysql/cursors.py:322\u001b[0m, in \u001b[0;36mCursor._query\u001b[0;34m(self, q)\u001b[0m\n\u001b[1;32m    320\u001b[0m conn \u001b[38;5;241m=\u001b[39m \u001b[38;5;28mself\u001b[39m\u001b[38;5;241m.\u001b[39m_get_db()\n\u001b[1;32m    321\u001b[0m \u001b[38;5;28mself\u001b[39m\u001b[38;5;241m.\u001b[39m_clear_result()\n\u001b[0;32m--> 322\u001b[0m \u001b[43mconn\u001b[49m\u001b[38;5;241;43m.\u001b[39;49m\u001b[43mquery\u001b[49m\u001b[43m(\u001b[49m\u001b[43mq\u001b[49m\u001b[43m)\u001b[49m\n\u001b[1;32m    323\u001b[0m \u001b[38;5;28mself\u001b[39m\u001b[38;5;241m.\u001b[39m_do_get_result()\n\u001b[1;32m    324\u001b[0m \u001b[38;5;28;01mreturn\u001b[39;00m \u001b[38;5;28mself\u001b[39m\u001b[38;5;241m.\u001b[39mrowcount\n",
      "File \u001b[0;32m~/Desktop/Database assignment/MINIPROHECT_YES24/.venv/lib/python3.12/site-packages/pymysql/connections.py:563\u001b[0m, in \u001b[0;36mConnection.query\u001b[0;34m(self, sql, unbuffered)\u001b[0m\n\u001b[1;32m    561\u001b[0m     sql \u001b[38;5;241m=\u001b[39m sql\u001b[38;5;241m.\u001b[39mencode(\u001b[38;5;28mself\u001b[39m\u001b[38;5;241m.\u001b[39mencoding, \u001b[38;5;124m\"\u001b[39m\u001b[38;5;124msurrogateescape\u001b[39m\u001b[38;5;124m\"\u001b[39m)\n\u001b[1;32m    562\u001b[0m \u001b[38;5;28mself\u001b[39m\u001b[38;5;241m.\u001b[39m_execute_command(COMMAND\u001b[38;5;241m.\u001b[39mCOM_QUERY, sql)\n\u001b[0;32m--> 563\u001b[0m \u001b[38;5;28mself\u001b[39m\u001b[38;5;241m.\u001b[39m_affected_rows \u001b[38;5;241m=\u001b[39m \u001b[38;5;28;43mself\u001b[39;49m\u001b[38;5;241;43m.\u001b[39;49m\u001b[43m_read_query_result\u001b[49m\u001b[43m(\u001b[49m\u001b[43munbuffered\u001b[49m\u001b[38;5;241;43m=\u001b[39;49m\u001b[43munbuffered\u001b[49m\u001b[43m)\u001b[49m\n\u001b[1;32m    564\u001b[0m \u001b[38;5;28;01mreturn\u001b[39;00m \u001b[38;5;28mself\u001b[39m\u001b[38;5;241m.\u001b[39m_affected_rows\n",
      "File \u001b[0;32m~/Desktop/Database assignment/MINIPROHECT_YES24/.venv/lib/python3.12/site-packages/pymysql/connections.py:825\u001b[0m, in \u001b[0;36mConnection._read_query_result\u001b[0;34m(self, unbuffered)\u001b[0m\n\u001b[1;32m    823\u001b[0m \u001b[38;5;28;01melse\u001b[39;00m:\n\u001b[1;32m    824\u001b[0m     result \u001b[38;5;241m=\u001b[39m MySQLResult(\u001b[38;5;28mself\u001b[39m)\n\u001b[0;32m--> 825\u001b[0m     \u001b[43mresult\u001b[49m\u001b[38;5;241;43m.\u001b[39;49m\u001b[43mread\u001b[49m\u001b[43m(\u001b[49m\u001b[43m)\u001b[49m\n\u001b[1;32m    826\u001b[0m \u001b[38;5;28mself\u001b[39m\u001b[38;5;241m.\u001b[39m_result \u001b[38;5;241m=\u001b[39m result\n\u001b[1;32m    827\u001b[0m \u001b[38;5;28;01mif\u001b[39;00m result\u001b[38;5;241m.\u001b[39mserver_status \u001b[38;5;129;01mis\u001b[39;00m \u001b[38;5;129;01mnot\u001b[39;00m \u001b[38;5;28;01mNone\u001b[39;00m:\n",
      "File \u001b[0;32m~/Desktop/Database assignment/MINIPROHECT_YES24/.venv/lib/python3.12/site-packages/pymysql/connections.py:1199\u001b[0m, in \u001b[0;36mMySQLResult.read\u001b[0;34m(self)\u001b[0m\n\u001b[1;32m   1197\u001b[0m \u001b[38;5;28;01mdef\u001b[39;00m \u001b[38;5;21mread\u001b[39m(\u001b[38;5;28mself\u001b[39m):\n\u001b[1;32m   1198\u001b[0m     \u001b[38;5;28;01mtry\u001b[39;00m:\n\u001b[0;32m-> 1199\u001b[0m         first_packet \u001b[38;5;241m=\u001b[39m \u001b[38;5;28;43mself\u001b[39;49m\u001b[38;5;241;43m.\u001b[39;49m\u001b[43mconnection\u001b[49m\u001b[38;5;241;43m.\u001b[39;49m\u001b[43m_read_packet\u001b[49m\u001b[43m(\u001b[49m\u001b[43m)\u001b[49m\n\u001b[1;32m   1201\u001b[0m         \u001b[38;5;28;01mif\u001b[39;00m first_packet\u001b[38;5;241m.\u001b[39mis_ok_packet():\n\u001b[1;32m   1202\u001b[0m             \u001b[38;5;28mself\u001b[39m\u001b[38;5;241m.\u001b[39m_read_ok_packet(first_packet)\n",
      "File \u001b[0;32m~/Desktop/Database assignment/MINIPROHECT_YES24/.venv/lib/python3.12/site-packages/pymysql/connections.py:775\u001b[0m, in \u001b[0;36mConnection._read_packet\u001b[0;34m(self, packet_type)\u001b[0m\n\u001b[1;32m    773\u001b[0m     \u001b[38;5;28;01mif\u001b[39;00m \u001b[38;5;28mself\u001b[39m\u001b[38;5;241m.\u001b[39m_result \u001b[38;5;129;01mis\u001b[39;00m \u001b[38;5;129;01mnot\u001b[39;00m \u001b[38;5;28;01mNone\u001b[39;00m \u001b[38;5;129;01mand\u001b[39;00m \u001b[38;5;28mself\u001b[39m\u001b[38;5;241m.\u001b[39m_result\u001b[38;5;241m.\u001b[39munbuffered_active \u001b[38;5;129;01mis\u001b[39;00m \u001b[38;5;28;01mTrue\u001b[39;00m:\n\u001b[1;32m    774\u001b[0m         \u001b[38;5;28mself\u001b[39m\u001b[38;5;241m.\u001b[39m_result\u001b[38;5;241m.\u001b[39munbuffered_active \u001b[38;5;241m=\u001b[39m \u001b[38;5;28;01mFalse\u001b[39;00m\n\u001b[0;32m--> 775\u001b[0m     \u001b[43mpacket\u001b[49m\u001b[38;5;241;43m.\u001b[39;49m\u001b[43mraise_for_error\u001b[49m\u001b[43m(\u001b[49m\u001b[43m)\u001b[49m\n\u001b[1;32m    776\u001b[0m \u001b[38;5;28;01mreturn\u001b[39;00m packet\n",
      "File \u001b[0;32m~/Desktop/Database assignment/MINIPROHECT_YES24/.venv/lib/python3.12/site-packages/pymysql/protocol.py:219\u001b[0m, in \u001b[0;36mMysqlPacket.raise_for_error\u001b[0;34m(self)\u001b[0m\n\u001b[1;32m    217\u001b[0m \u001b[38;5;28;01mif\u001b[39;00m DEBUG:\n\u001b[1;32m    218\u001b[0m     \u001b[38;5;28mprint\u001b[39m(\u001b[38;5;124m\"\u001b[39m\u001b[38;5;124merrno =\u001b[39m\u001b[38;5;124m\"\u001b[39m, errno)\n\u001b[0;32m--> 219\u001b[0m \u001b[43merr\u001b[49m\u001b[38;5;241;43m.\u001b[39;49m\u001b[43mraise_mysql_exception\u001b[49m\u001b[43m(\u001b[49m\u001b[38;5;28;43mself\u001b[39;49m\u001b[38;5;241;43m.\u001b[39;49m\u001b[43m_data\u001b[49m\u001b[43m)\u001b[49m\n",
      "File \u001b[0;32m~/Desktop/Database assignment/MINIPROHECT_YES24/.venv/lib/python3.12/site-packages/pymysql/err.py:150\u001b[0m, in \u001b[0;36mraise_mysql_exception\u001b[0;34m(data)\u001b[0m\n\u001b[1;32m    148\u001b[0m \u001b[38;5;28;01mif\u001b[39;00m errorclass \u001b[38;5;129;01mis\u001b[39;00m \u001b[38;5;28;01mNone\u001b[39;00m:\n\u001b[1;32m    149\u001b[0m     errorclass \u001b[38;5;241m=\u001b[39m InternalError \u001b[38;5;28;01mif\u001b[39;00m errno \u001b[38;5;241m<\u001b[39m \u001b[38;5;241m1000\u001b[39m \u001b[38;5;28;01melse\u001b[39;00m OperationalError\n\u001b[0;32m--> 150\u001b[0m \u001b[38;5;28;01mraise\u001b[39;00m errorclass(errno, errval)\n",
      "\u001b[0;31mDataError\u001b[0m: (1265, \"Data truncated for column 'review' at row 1\")"
     ]
    }
   ],
   "source": [
    "import pymysql\n",
    "import time\n",
    "import re\n",
    "from datetime import datetime\n",
    "\n",
    "import pymysql.cursors\n",
    "\n",
    "conn = pymysql.connect(\n",
    "    host='localhost',\n",
    "    user='root',\n",
    "    password='00915',\n",
    "    db='Yes24',\n",
    "    charset='utf8mb4',\n",
    "    cursorclass=pymysql.cursors.DictCursor\n",
    ")\n",
    "\n",
    "with conn.cursor() as cur:\n",
    "\n",
    "    for link in link_list:\n",
    "        browser.get(link)\n",
    "\n",
    "\n",
    "        title =browser.find_element(By.CLASS_NAME, 'gd_name').text\n",
    "        author = browser.find_element(By.CLASS_NAME, 'gd_auth').text\n",
    "        publisher = browser.find_element(By.CLASS_NAME, 'gd_pub').text\n",
    "\n",
    "        publishing = browser.find_element(By.CLASS_NAME, 'gd_date').text\n",
    "        match = re.search(r'(\\d+)년 (\\d+)월 (\\d+)일', publishing)\n",
    "        \n",
    "        if match:\n",
    "            year, month, day = match.groups()\n",
    "            data_obj = datetime(int(year), int(month), int(day))\n",
    "            publishing = data_obj.strftime(\"%Y-%m-%d\")\n",
    "        else:\n",
    "            publishing = \"2023-01-01\"\n",
    "\n",
    "        rating = browser.find_element(By.CLASS_NAME, 'yes_b').text\n",
    "\n",
    "        review = browser.find_element(By.CLASS_NAME, 'txC_blue').text.split()\n",
    "\n",
    "        sales = browser.find_element(By.CLASS_NAME, 'gd_sellNum').text.split(\" \")[2]\n",
    "        sales = int(sales.replace(\",\", \"\"))\n",
    "\n",
    "        price = browser.find_element(By.CLASS_NAME, 'yes_m').text[:-1]\n",
    "        price = int(price.replace(\",\", \"\"))\n",
    "\n",
    "        full_text = browser.find_element(By.CLASS_NAME, 'gd_best').text\n",
    "        parts = full_text.split(\" | \")\n",
    "\n",
    "        if len(parts) == 1:\n",
    "            ranking = 0\n",
    "            ranking_weeks = 0\n",
    "        else:\n",
    "            try:\n",
    "                full_text = browser.find_element(By.CLASS_NAME, 'gd_best').text\n",
    "                parts = full_text.split(\" | \")\n",
    "                ranking_part = parts[0]\n",
    "                ranking = ''.join(filter(str.isdigit, ranking_part))\n",
    "            except:\n",
    "                ranking = 0\n",
    "\n",
    "            try:\n",
    "                full_text = browser.find_element(By.CLASS_NAME, 'gd_best').text\n",
    "                parts = full_text.split(\" | \")\n",
    "                ranking_weeks_part = parts[1]\n",
    "                ranking_weeks = ''.join(filter(str.isdigit, ranking_weeks_part.split()[-1]))\n",
    "            except:\n",
    "                ranking_weeks = 0\n",
    "\n",
    "\n",
    "            sql = \"\"\"INSERT INTO Books\n",
    "                (title, author, publisher, publishing, rating,\n",
    "                review, sales, price, ranking, ranking_weeks)\n",
    "                VALUES(\n",
    "                %s, %s, %s, %s, %s, %s, %s, %s, %s, %s\n",
    "                )\n",
    "                \"\"\"\n",
    "\n",
    "            \n",
    "        cur.execute(sql, (title, author, publisher, publishing, rating, review, sales, price, ranking, ranking_weeks))\n",
    "        conn.commit()\n",
    "\n",
    "        time.sleep(2)"
   ]
  },
  {
   "cell_type": "code",
   "execution_count": null,
   "metadata": {},
   "outputs": [
    {
     "ename": "NoSuchElementException",
     "evalue": "Message: no such element: Unable to locate element: {\"method\":\"css selector\",\"selector\":\".gd_auth\"}\n  (Session info: chrome=129.0.6668.90); For documentation on this error, please visit: https://www.selenium.dev/documentation/webdriver/troubleshooting/errors#no-such-element-exception\nStacktrace:\n0   chromedriver                        0x0000000102072d18 chromedriver + 4996376\n1   chromedriver                        0x000000010206a5da chromedriver + 4961754\n2   chromedriver                        0x0000000101c0dd10 chromedriver + 388368\n3   chromedriver                        0x0000000101c5a30f chromedriver + 701199\n4   chromedriver                        0x0000000101c5a3f1 chromedriver + 701425\n5   chromedriver                        0x0000000101c9f464 chromedriver + 984164\n6   chromedriver                        0x0000000101c7e9dd chromedriver + 850397\n7   chromedriver                        0x0000000101c9ca00 chromedriver + 973312\n8   chromedriver                        0x0000000101c7e753 chromedriver + 849747\n9   chromedriver                        0x0000000101c4d635 chromedriver + 648757\n10  chromedriver                        0x0000000101c4de5e chromedriver + 650846\n11  chromedriver                        0x0000000102039000 chromedriver + 4759552\n12  chromedriver                        0x000000010203df18 chromedriver + 4779800\n13  chromedriver                        0x000000010203e5e5 chromedriver + 4781541\n14  chromedriver                        0x000000010201baa9 chromedriver + 4639401\n15  chromedriver                        0x000000010203e8d9 chromedriver + 4782297\n16  chromedriver                        0x000000010200d044 chromedriver + 4579396\n17  chromedriver                        0x000000010205aa08 chromedriver + 4897288\n18  chromedriver                        0x000000010205ac03 chromedriver + 4897795\n19  chromedriver                        0x000000010206a1de chromedriver + 4960734\n20  libsystem_pthread.dylib             0x00007ff80826918b _pthread_start + 99\n21  libsystem_pthread.dylib             0x00007ff808264ae3 thread_start + 15\n",
     "output_type": "error",
     "traceback": [
      "\u001b[0;31m---------------------------------------------------------------------------\u001b[0m",
      "\u001b[0;31mNoSuchElementException\u001b[0m                    Traceback (most recent call last)",
      "Cell \u001b[0;32mIn[54], line 22\u001b[0m\n\u001b[1;32m     19\u001b[0m browser\u001b[38;5;241m.\u001b[39mget(link)\n\u001b[1;32m     21\u001b[0m title \u001b[38;5;241m=\u001b[39m browser\u001b[38;5;241m.\u001b[39mfind_element(By\u001b[38;5;241m.\u001b[39mCLASS_NAME, \u001b[38;5;124m'\u001b[39m\u001b[38;5;124mgd_name\u001b[39m\u001b[38;5;124m'\u001b[39m)\u001b[38;5;241m.\u001b[39mtext \u001b[38;5;129;01mor\u001b[39;00m \u001b[38;5;28;01mNone\u001b[39;00m\n\u001b[0;32m---> 22\u001b[0m author \u001b[38;5;241m=\u001b[39m \u001b[43mbrowser\u001b[49m\u001b[38;5;241;43m.\u001b[39;49m\u001b[43mfind_element\u001b[49m\u001b[43m(\u001b[49m\u001b[43mBy\u001b[49m\u001b[38;5;241;43m.\u001b[39;49m\u001b[43mCLASS_NAME\u001b[49m\u001b[43m,\u001b[49m\u001b[43m \u001b[49m\u001b[38;5;124;43m'\u001b[39;49m\u001b[38;5;124;43mgd_auth\u001b[39;49m\u001b[38;5;124;43m'\u001b[39;49m\u001b[43m)\u001b[49m\u001b[38;5;241m.\u001b[39mtext \u001b[38;5;129;01mor\u001b[39;00m \u001b[38;5;28;01mNone\u001b[39;00m\n\u001b[1;32m     23\u001b[0m publisher \u001b[38;5;241m=\u001b[39m browser\u001b[38;5;241m.\u001b[39mfind_element(By\u001b[38;5;241m.\u001b[39mCLASS_NAME, \u001b[38;5;124m'\u001b[39m\u001b[38;5;124mgd_pub\u001b[39m\u001b[38;5;124m'\u001b[39m)\u001b[38;5;241m.\u001b[39mtext \u001b[38;5;129;01mor\u001b[39;00m \u001b[38;5;28;01mNone\u001b[39;00m\n\u001b[1;32m     25\u001b[0m publishing \u001b[38;5;241m=\u001b[39m browser\u001b[38;5;241m.\u001b[39mfind_element(By\u001b[38;5;241m.\u001b[39mCLASS_NAME, \u001b[38;5;124m'\u001b[39m\u001b[38;5;124mgd_date\u001b[39m\u001b[38;5;124m'\u001b[39m)\u001b[38;5;241m.\u001b[39mtext \u001b[38;5;129;01mor\u001b[39;00m \u001b[38;5;28;01mNone\u001b[39;00m\n",
      "File \u001b[0;32m~/Desktop/Database assignment/MINIPROHECT_YES24/.venv/lib/python3.12/site-packages/selenium/webdriver/remote/webdriver.py:748\u001b[0m, in \u001b[0;36mWebDriver.find_element\u001b[0;34m(self, by, value)\u001b[0m\n\u001b[1;32m    745\u001b[0m     by \u001b[38;5;241m=\u001b[39m By\u001b[38;5;241m.\u001b[39mCSS_SELECTOR\n\u001b[1;32m    746\u001b[0m     value \u001b[38;5;241m=\u001b[39m \u001b[38;5;124mf\u001b[39m\u001b[38;5;124m'\u001b[39m\u001b[38;5;124m[name=\u001b[39m\u001b[38;5;124m\"\u001b[39m\u001b[38;5;132;01m{\u001b[39;00mvalue\u001b[38;5;132;01m}\u001b[39;00m\u001b[38;5;124m\"\u001b[39m\u001b[38;5;124m]\u001b[39m\u001b[38;5;124m'\u001b[39m\n\u001b[0;32m--> 748\u001b[0m \u001b[38;5;28;01mreturn\u001b[39;00m \u001b[38;5;28;43mself\u001b[39;49m\u001b[38;5;241;43m.\u001b[39;49m\u001b[43mexecute\u001b[49m\u001b[43m(\u001b[49m\u001b[43mCommand\u001b[49m\u001b[38;5;241;43m.\u001b[39;49m\u001b[43mFIND_ELEMENT\u001b[49m\u001b[43m,\u001b[49m\u001b[43m \u001b[49m\u001b[43m{\u001b[49m\u001b[38;5;124;43m\"\u001b[39;49m\u001b[38;5;124;43musing\u001b[39;49m\u001b[38;5;124;43m\"\u001b[39;49m\u001b[43m:\u001b[49m\u001b[43m \u001b[49m\u001b[43mby\u001b[49m\u001b[43m,\u001b[49m\u001b[43m \u001b[49m\u001b[38;5;124;43m\"\u001b[39;49m\u001b[38;5;124;43mvalue\u001b[39;49m\u001b[38;5;124;43m\"\u001b[39;49m\u001b[43m:\u001b[49m\u001b[43m \u001b[49m\u001b[43mvalue\u001b[49m\u001b[43m}\u001b[49m\u001b[43m)\u001b[49m[\u001b[38;5;124m\"\u001b[39m\u001b[38;5;124mvalue\u001b[39m\u001b[38;5;124m\"\u001b[39m]\n",
      "File \u001b[0;32m~/Desktop/Database assignment/MINIPROHECT_YES24/.venv/lib/python3.12/site-packages/selenium/webdriver/remote/webdriver.py:354\u001b[0m, in \u001b[0;36mWebDriver.execute\u001b[0;34m(self, driver_command, params)\u001b[0m\n\u001b[1;32m    352\u001b[0m response \u001b[38;5;241m=\u001b[39m \u001b[38;5;28mself\u001b[39m\u001b[38;5;241m.\u001b[39mcommand_executor\u001b[38;5;241m.\u001b[39mexecute(driver_command, params)\n\u001b[1;32m    353\u001b[0m \u001b[38;5;28;01mif\u001b[39;00m response:\n\u001b[0;32m--> 354\u001b[0m     \u001b[38;5;28;43mself\u001b[39;49m\u001b[38;5;241;43m.\u001b[39;49m\u001b[43merror_handler\u001b[49m\u001b[38;5;241;43m.\u001b[39;49m\u001b[43mcheck_response\u001b[49m\u001b[43m(\u001b[49m\u001b[43mresponse\u001b[49m\u001b[43m)\u001b[49m\n\u001b[1;32m    355\u001b[0m     response[\u001b[38;5;124m\"\u001b[39m\u001b[38;5;124mvalue\u001b[39m\u001b[38;5;124m\"\u001b[39m] \u001b[38;5;241m=\u001b[39m \u001b[38;5;28mself\u001b[39m\u001b[38;5;241m.\u001b[39m_unwrap_value(response\u001b[38;5;241m.\u001b[39mget(\u001b[38;5;124m\"\u001b[39m\u001b[38;5;124mvalue\u001b[39m\u001b[38;5;124m\"\u001b[39m, \u001b[38;5;28;01mNone\u001b[39;00m))\n\u001b[1;32m    356\u001b[0m     \u001b[38;5;28;01mreturn\u001b[39;00m response\n",
      "File \u001b[0;32m~/Desktop/Database assignment/MINIPROHECT_YES24/.venv/lib/python3.12/site-packages/selenium/webdriver/remote/errorhandler.py:229\u001b[0m, in \u001b[0;36mErrorHandler.check_response\u001b[0;34m(self, response)\u001b[0m\n\u001b[1;32m    227\u001b[0m         alert_text \u001b[38;5;241m=\u001b[39m value[\u001b[38;5;124m\"\u001b[39m\u001b[38;5;124malert\u001b[39m\u001b[38;5;124m\"\u001b[39m]\u001b[38;5;241m.\u001b[39mget(\u001b[38;5;124m\"\u001b[39m\u001b[38;5;124mtext\u001b[39m\u001b[38;5;124m\"\u001b[39m)\n\u001b[1;32m    228\u001b[0m     \u001b[38;5;28;01mraise\u001b[39;00m exception_class(message, screen, stacktrace, alert_text)  \u001b[38;5;66;03m# type: ignore[call-arg]  # mypy is not smart enough here\u001b[39;00m\n\u001b[0;32m--> 229\u001b[0m \u001b[38;5;28;01mraise\u001b[39;00m exception_class(message, screen, stacktrace)\n",
      "\u001b[0;31mNoSuchElementException\u001b[0m: Message: no such element: Unable to locate element: {\"method\":\"css selector\",\"selector\":\".gd_auth\"}\n  (Session info: chrome=129.0.6668.90); For documentation on this error, please visit: https://www.selenium.dev/documentation/webdriver/troubleshooting/errors#no-such-element-exception\nStacktrace:\n0   chromedriver                        0x0000000102072d18 chromedriver + 4996376\n1   chromedriver                        0x000000010206a5da chromedriver + 4961754\n2   chromedriver                        0x0000000101c0dd10 chromedriver + 388368\n3   chromedriver                        0x0000000101c5a30f chromedriver + 701199\n4   chromedriver                        0x0000000101c5a3f1 chromedriver + 701425\n5   chromedriver                        0x0000000101c9f464 chromedriver + 984164\n6   chromedriver                        0x0000000101c7e9dd chromedriver + 850397\n7   chromedriver                        0x0000000101c9ca00 chromedriver + 973312\n8   chromedriver                        0x0000000101c7e753 chromedriver + 849747\n9   chromedriver                        0x0000000101c4d635 chromedriver + 648757\n10  chromedriver                        0x0000000101c4de5e chromedriver + 650846\n11  chromedriver                        0x0000000102039000 chromedriver + 4759552\n12  chromedriver                        0x000000010203df18 chromedriver + 4779800\n13  chromedriver                        0x000000010203e5e5 chromedriver + 4781541\n14  chromedriver                        0x000000010201baa9 chromedriver + 4639401\n15  chromedriver                        0x000000010203e8d9 chromedriver + 4782297\n16  chromedriver                        0x000000010200d044 chromedriver + 4579396\n17  chromedriver                        0x000000010205aa08 chromedriver + 4897288\n18  chromedriver                        0x000000010205ac03 chromedriver + 4897795\n19  chromedriver                        0x000000010206a1de chromedriver + 4960734\n20  libsystem_pthread.dylib             0x00007ff80826918b _pthread_start + 99\n21  libsystem_pthread.dylib             0x00007ff808264ae3 thread_start + 15\n"
     ]
    }
   ],
   "source": [
    "\n",
    "import pymysql\n",
    "import time\n",
    "import re\n",
    "from datetime import datetime\n",
    "\n",
    "import pymysql.cursors\n",
    "\n",
    "conn = pymysql.connect(\n",
    "    host='localhost',\n",
    "    user='root',\n",
    "    password='00915',\n",
    "    db='Yes24',\n",
    "    charset='utf8mb4',\n",
    "    cursorclass=pymysql.cursors.DictCursor\n",
    ")\n",
    "\n",
    "with conn.cursor() as cur:\n",
    "    for link in link_list:\n",
    "        browser.get(link)\n",
    "\n",
    "        title = browser.find_element(By.CLASS_NAME, 'gd_name').text or None\n",
    "        author = browser.find_element(By.CLASS_NAME, 'gd_auth').text or None\n",
    "        publisher = browser.find_element(By.CLASS_NAME, 'gd_pub').text or None\n",
    "\n",
    "        publishing = browser.find_element(By.CLASS_NAME, 'gd_date').text or None\n",
    "\n",
    "        # Check if publishing is None before using regex\n",
    "        if publishing is not None:\n",
    "            match = re.search(r'(\\d+)년 (\\d+)월 (\\d+)일', publishing)\n",
    "\n",
    "            if match:\n",
    "                year, month, day = match.groups()\n",
    "                date_obj = datetime(int(year), int(month), int(day))\n",
    "                publishing = date_obj.strftime(\"%Y-%m-%d\")\n",
    "            else:\n",
    "                publishing = \"2023-01-01\"  # Default value if regex doesn't match\n",
    "        else:\n",
    "            publishing = \"2023-01-01\"  # Default value if publishing is None\n",
    "\n",
    "        rating = browser.find_element(By.CLASS_NAME, 'yes_b').text or None\n",
    "        review = browser.find_element(By.CLASS_NAME, 'txC_blue').text or None\n",
    "        sales = browser.find_element(By.CLASS_NAME, 'gd_sellNum').text.split(\" \")[2] or None\n",
    "        price = browser.find_element(By.CLASS_NAME, 'yes_m').text[:-1] or None\n",
    "\n",
    "        if price is not None:\n",
    "            price = int(price.replace(\",\", \"\"))\n",
    "\n",
    "        # Ranking and ranking weeks handling\n",
    "        full_text = browser.find_element(By.CLASS_NAME, 'gd_best').text or \"\"\n",
    "        parts = full_text.split(\" | \")\n",
    "\n",
    "        if len(parts) == 1:\n",
    "            ranking = 0\n",
    "            ranking_weeks = 0\n",
    "        else:\n",
    "            try:\n",
    "                ranking_part = parts[0]\n",
    "                ranking = ''.join(filter(str.isdigit, ranking_part))  # Extract only digits\n",
    "            except:\n",
    "                ranking = 0\n",
    "\n",
    "            try:\n",
    "                ranking_weeks_part = parts[1]\n",
    "                ranking_weeks = ''.join(filter(str.isdigit, ranking_weeks_part.split()[-1]))\n",
    "            except:\n",
    "                ranking_weeks = 0\n",
    "\n",
    "        # Check for None values before executing SQL\n",
    "        sql = \"\"\"INSERT INTO Books\n",
    "                (title, author, publisher, publishing, rating,\n",
    "                review, sales, price, ranking, ranking_weeks)\n",
    "                VALUES(%s, %s, %s, %s, %s, %s, %s, %s, %s, %s)\n",
    "                \"\"\"\n",
    "\n",
    "        try:\n",
    "            # Execute the SQL command\n",
    "            cur.execute(sql, (title, author, publisher, publishing, rating, review, sales, price, ranking, ranking_weeks))\n",
    "            conn.commit()  # Save changes to the database\n",
    "        except pymysql.MySQLError as e:\n",
    "            print(f\"Data: {title}, {author}, {publisher}, {publishing}, {rating}, {review}, {sales}, {price}, {ranking}, {ranking_weeks}\")\n",
    "\n",
    "        time.sleep(2)\n",
    "\n"
   ]
  }
 ],
 "metadata": {
  "kernelspec": {
   "display_name": ".venv",
   "language": "python",
   "name": "python3"
  },
  "language_info": {
   "codemirror_mode": {
    "name": "ipython",
    "version": 3
   },
   "file_extension": ".py",
   "mimetype": "text/x-python",
   "name": "python",
   "nbconvert_exporter": "python",
   "pygments_lexer": "ipython3",
   "version": "3.12.5"
  }
 },
 "nbformat": 4,
 "nbformat_minor": 2
}
